{
 "cells": [
  {
   "cell_type": "markdown",
   "metadata": {},
   "source": [
    "# Machine Learning"
   ]
  },
  {
   "cell_type": "markdown",
   "metadata": {},
   "source": [
    "## What is Machine Learning?\n",
    "\n",
    "- Machine learning is a subset of artificial intelligence which gives a machine the ability to learn without being explicitly programmed.\n",
    "- Data is the key and learning algorithm\n",
    "\n",
    "**Machine work better with more data..**\n",
    "\n",
    "Machine Learning popular Myth!\n",
    "AI vs. Machine Learning vs. Deep Learning\n",
    "\n",
    "<p align=\"center\"><img src=\"img/ai-ml-dl.png\" alt=\"AI vs. Machine Learning vs. Deep Learning\" width=\"400\"/></p>\n",
    "\n",
    "**Artificial Intelligence** is Area of computer science that emphasizes the creation of intelligent machines that work and react like humans.\n",
    "\n",
    "**Machine Learning** is A subset of AI which gives a machine the ability to learn without being explicitly programmed.\n",
    "\n",
    "**Deep Learning** is A subset of machine learning concerned with algorithms inspired by the structure and function of the brain called artificial neural networks.\n",
    "\n",
    "\n",
    "## Types of machine learning\n",
    "\n",
    "Supervised Learning\n",
    "Unsupervised Learning\n",
    "Reinforcement Learning"
   ]
  }
 ],
 "metadata": {
  "kernelspec": {
   "display_name": "Python 3",
   "language": "python",
   "name": "python3"
  },
  "language_info": {
   "codemirror_mode": {
    "name": "ipython",
    "version": 3
   },
   "file_extension": ".py",
   "mimetype": "text/x-python",
   "name": "python",
   "nbconvert_exporter": "python",
   "pygments_lexer": "ipython3",
   "version": "3.6.9"
  }
 },
 "nbformat": 4,
 "nbformat_minor": 4
}
